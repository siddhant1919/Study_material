{
  "nbformat": 4,
  "nbformat_minor": 0,
  "metadata": {
    "colab": {
      "provenance": []
    },
    "kernelspec": {
      "name": "python3",
      "display_name": "Python 3"
    },
    "language_info": {
      "name": "python"
    }
  },
  "cells": [
    {
      "cell_type": "code",
      "execution_count": 56,
      "metadata": {
        "id": "5IZNuBBXO7cc"
      },
      "outputs": [],
      "source": [
        "import tensorflow as tf\n",
        "from tensorflow.keras.models import Sequential\n",
        "from tensorflow.keras.layers import Dense, Flatten, Conv2D, MaxPooling2D, Dropout\n",
        "from tensorflow.keras.preprocessing.image import ImageDataGenerator\n",
        "import numpy as np\n",
        "import pandas as pd\n",
        "import matplotlib.pyplot as plt\n",
        "import cv2"
      ]
    },
    {
      "cell_type": "code",
      "source": [
        "img_height = 128\n",
        "img_width = 128\n",
        "batch_size = 32\n",
        "epochs = 10\n",
        "num_classes = 10"
      ],
      "metadata": {
        "id": "IYdcuhdaPHVt"
      },
      "execution_count": 57,
      "outputs": []
    },
    {
      "cell_type": "code",
      "source": [
        "import pandas as pd\n",
        "df = pd.read_csv('/content/list_attr_celeba.csv')"
      ],
      "metadata": {
        "id": "rWM4VZTQPNKz"
      },
      "execution_count": 58,
      "outputs": []
    },
    {
      "cell_type": "code",
      "source": [
        "df = df.sample(frac=1).reset_index(drop=True)\n",
        "df['image_id'] = df['image_id'].apply(lambda x: x[:-4])\n",
        "df_train = df[:int(len(df)*0.8)] "
      ],
      "metadata": {
        "id": "gY_LxY3LLnw7"
      },
      "execution_count": 59,
      "outputs": []
    },
    {
      "cell_type": "code",
      "source": [
        "from tensorflow.keras.preprocessing.image import ImageDataGenerator\n",
        "train_datagen = ImageDataGenerator(rescale=1./255)\n",
        "val_datagen = ImageDataGenerator(rescale=1./255)\n",
        "test_datagen = ImageDataGenerator(rescale=1./255)"
      ],
      "metadata": {
        "id": "SitOudoPL2qd"
      },
      "execution_count": 60,
      "outputs": []
    },
    {
      "cell_type": "code",
      "source": [
        "val_generator = val_datagen.flow_from_dataframe(\n",
        "    dataframe=df_val,\n",
        "    directory='img_align_celeba',\n",
        "    x_col='image_id',\n",
        "    y_col='Smiling',\n",
        "    target_size=(img_height, img_width),\n",
        "    batch_size=batch_size,\n",
        "    class_mode='binary'\n",
        ")\n",
        "test_generator = test_datagen.flow_from_dataframe(\n",
        "    dataframe=df_test,\n",
        "    directory='img_align_celeba',\n",
        "    x_col='image_id',\n",
        "    y_col='Smiling',\n",
        "    target_size=(img_height, img_width),\n",
        "    batch_size=batch_size,\n",
        "    class_mode='binary'\n",
        ")"
      ],
      "metadata": {
        "colab": {
          "base_uri": "https://localhost:8080/"
        },
        "id": "Mz_kLAqiyDic",
        "outputId": "b021c545-b5ec-4e80-8af6-eecec674b77c"
      },
      "execution_count": 74,
      "outputs": [
        {
          "output_type": "stream",
          "name": "stdout",
          "text": [
            "Found 0 validated image filenames belonging to 0 classes.\n",
            "Found 0 validated image filenames belonging to 0 classes.\n"
          ]
        },
        {
          "output_type": "stream",
          "name": "stderr",
          "text": [
            "/usr/local/lib/python3.10/dist-packages/keras/preprocessing/image.py:1137: UserWarning: Found 7673 invalid image filename(s) in x_col=\"image_id\". These filename(s) will be ignored.\n",
            "  warnings.warn(\n",
            "/usr/local/lib/python3.10/dist-packages/keras/preprocessing/image.py:1137: UserWarning: Found 7674 invalid image filename(s) in x_col=\"image_id\". These filename(s) will be ignored.\n",
            "  warnings.warn(\n"
          ]
        }
      ]
    },
    {
      "cell_type": "code",
      "source": [
        "acc_linreg = metrics.r2_score(y_test, y_test_pred)\n",
        "print('R^2:', acc_linreg)"
      ],
      "metadata": {
        "id": "mAoXyixti1-S"
      },
      "execution_count": null,
      "outputs": []
    },
    {
      "cell_type": "code",
      "source": [
        "model = Sequential([\n",
        "Conv2D(32, (3,3), activation='relu', input_shape=(img_height, img_width, 3)),\n",
        "MaxPooling2D((2,2)),\n",
        "Conv2D(64, (3,3), activation='relu'),\n",
        "MaxPooling2D((2,2)),\n",
        "Conv2D(128, (3,3), activation='relu'),\n",
        "MaxPooling2D((2,2)),\n",
        "Conv2D(128, (3,3), activation='relu'),\n",
        "MaxPooling2D((2,2)),\n",
        "Flatten(),\n",
        "Dropout(0.5),\n",
        "Dense(512, activation='relu'),\n",
        "Dense(num_classes, activation='sigmoid')\n",
        "])"
      ],
      "metadata": {
        "id": "BBcgGvHxyRIq"
      },
      "execution_count": 73,
      "outputs": []
    },
    {
      "cell_type": "code",
      "source": [
        "model.compile(optimizer='adam', loss='binary_crossentropy',\n",
        "metrics=['accuracy'])"
      ],
      "metadata": {
        "id": "J27nvrmuyYNr"
      },
      "execution_count": 72,
      "outputs": []
    }
  ]
}